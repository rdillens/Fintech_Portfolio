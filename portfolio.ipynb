{
 "cells": [
  {
   "cell_type": "code",
   "execution_count": 31,
   "metadata": {},
   "outputs": [],
   "source": [
    "# Jupyter Notebook libraries\n",
    "from IPython.display import display\n",
    "from ipywidgets import widgets\n",
    "\n",
    "# Conda libraries\n",
    "import pandas as pd\n",
    "import datetime as dt\n",
    "\n",
    "# External libraries\n",
    "import mplfinance as mpf\n",
    "\n",
    "\n",
    "# Local libraries\n",
    "from utils.alpaca import alpaca as alp"
   ]
  },
  {
   "cell_type": "markdown",
   "metadata": {},
   "source": [
    "## Load list of active assets"
   ]
  },
  {
   "cell_type": "code",
   "execution_count": 32,
   "metadata": {},
   "outputs": [
    {
     "data": {
      "text/plain": [
       "Index(['id', 'exchange', 'symbol', 'name', 'marginable', 'shortable',\n",
       "       'easy_to_borrow', 'fractionable'],\n",
       "      dtype='object')"
      ]
     },
     "metadata": {},
     "output_type": "display_data"
    }
   ],
   "source": [
    "active_assets = alp.list_assets(status='active')\n",
    "active_assets_df = pd.DataFrame([asset._raw for asset in active_assets if asset._raw['tradable'] == True])\n",
    "active_assets_df = active_assets_df.loc[lambda df: (df['class'] == 'us_equity')]\n",
    "active_assets_df.drop(columns=['class', 'status', 'tradable', 'min_order_size', 'min_trade_increment', 'price_increment'], inplace=True)\n",
    "# active_assets_df.set_index(keys='id', drop=True, inplace=True)\n",
    "display(active_assets_df.columns)"
   ]
  },
  {
   "cell_type": "code",
   "execution_count": 33,
   "metadata": {},
   "outputs": [],
   "source": [
    "# asset_class_menu = widgets.Dropdown(options=active_assets_df['class'].unique())\n",
    "exchange_menu = widgets.Dropdown(options=active_assets_df['exchange'].unique())\n",
    "asset_menu = widgets.Dropdown(options=active_assets_df['name'].sort_values().unique())\n",
    "\n",
    "asset_detail = widgets.Label(asset_menu.value)\n",
    "asset_price = widgets.Label()\n",
    "# asset_history = widgets.Textarea(layout={'height':'100px', 'width':'100%'})"
   ]
  },
  {
   "cell_type": "code",
   "execution_count": 34,
   "metadata": {},
   "outputs": [
    {
     "name": "stdout",
     "output_type": "stream",
     "text": [
      "Most recent trading day: 2022-05-09\n"
     ]
    }
   ],
   "source": [
    "today = dt.datetime.now()\n",
    "offset = max(1, (today.weekday() + 6) % 7 -3)\n",
    "timedelta = dt.timedelta(offset)\n",
    "most_recent = today - timedelta\n",
    "print(f\"Most recent trading day: {most_recent.date()}\")\n"
   ]
  },
  {
   "cell_type": "code",
   "execution_count": 36,
   "metadata": {},
   "outputs": [],
   "source": [
    "numdays=365\n",
    "oldest_date = most_recent - dt.timedelta(days=numdays)\n",
    "\n",
    "def get_last_price(symbol):\n",
    "    return alp.get_bars(\n",
    "        symbol=symbol,\n",
    "        timeframe='1D', \n",
    "        # limit=100, \n",
    "        end=str(most_recent.date()),\n",
    "        start=str(oldest_date.date()),\n",
    "    ).df"
   ]
  },
  {
   "cell_type": "code",
   "execution_count": 37,
   "metadata": {},
   "outputs": [],
   "source": [
    "def display_asset_menu(\n",
    "    # asset_class, \n",
    "    exchange, \n",
    "    asset,\n",
    "):\n",
    "    filtered_asset_list = active_assets_df.loc[lambda df: (df['exchange'] == exchange)]['name'].sort_values().unique()\n",
    "\n",
    "    asset_menu.options = filtered_asset_list\n",
    "    selected_asset = active_assets_df.loc[lambda df: (df['name'] == asset_menu.value)]\n",
    "\n",
    "    asset_detail.value = f\"{selected_asset.iloc[0]['symbol']}: {selected_asset.iloc[0]['name']}\"\n",
    "\n",
    "    # Use the Alpaca get_barset function to get current closing prices the portfolio\n",
    "    prices_most_recent_df = get_last_price(selected_asset.iloc[0]['symbol'])\n",
    "    # prices_most_recent_df = alp.get_bars(\n",
    "    #     selected_asset.iloc[0]['symbol'],\n",
    "    #     # tickers, \n",
    "    #     timeframe='1D', \n",
    "    #     # limit=100, \n",
    "    #     end=str(most_recent.date()),\n",
    "    #     start=str(oldest_date.date()),\n",
    "    #     ).df\n",
    "    # display(prices_most_recent_df.index.date())\n",
    "    asset_price.value = f\"Close Price: ${prices_most_recent_df.iloc[-1]['close']}\"\n",
    "    # asset_history.value = f\"{prices_most_recent_df}\"\n",
    "    plot = mpf.plot(prices_most_recent_df, type='candle', volume=True)\n",
    "    "
   ]
  },
  {
   "cell_type": "code",
   "execution_count": 38,
   "metadata": {},
   "outputs": [],
   "source": [
    "asset_plot = widgets.interactive_output(\n",
    "    display_asset_menu,\n",
    "    {\n",
    "        # 'asset_class':asset_class_menu, \n",
    "        'exchange': exchange_menu, \n",
    "        'asset': asset_menu,\n",
    "    }\n",
    ")"
   ]
  },
  {
   "cell_type": "code",
   "execution_count": 39,
   "metadata": {},
   "outputs": [],
   "source": [
    "asset_df = pd.DataFrame()\n",
    "amount = widgets.FloatText(description=\"Amount\")\n"
   ]
  },
  {
   "cell_type": "code",
   "execution_count": 40,
   "metadata": {},
   "outputs": [],
   "source": [
    "def add_asset():\n",
    "    # temp_df = pd.DataFrame(active_assets_df.loc[lambda df: (df['name'] == asset_menu.value)])\n",
    "    selected_asset = active_assets_df.loc[lambda df: (df['name'] == asset_menu.value)]\n",
    "    selected_asset['amount'] = amount.value\n",
    "\n",
    "    prices_most_recent_df = get_last_price(selected_asset.iloc[0]['symbol'])\n",
    "\n",
    "    selected_asset['last_close'] = prices_most_recent_df.iloc[-1]['close']\n",
    "\n",
    "    selected_asset['current_value'] = selected_asset['last_close'] * selected_asset['amount']\n",
    "\n",
    "    global asset_df\n",
    "    asset_df = asset_df.append(selected_asset, ignore_index=True)\n"
   ]
  },
  {
   "cell_type": "code",
   "execution_count": 41,
   "metadata": {},
   "outputs": [],
   "source": [
    "button = widgets.Button(description=\"Add Asset\")\n",
    "portfolio_summary = widgets.Output()\n",
    "def on_button_clicked(b):\n",
    "    add_asset()\n",
    "    amount.value = 0\n",
    "    with portfolio_summary:\n",
    "        portfolio_summary.clear_output()\n",
    "        # display(temp_df)\n",
    "        display(asset_df.loc[:,['exchange', 'symbol', 'name', 'amount', 'last_close', 'current_value']])\n",
    "  \n",
    "\n",
    "button.on_click(on_button_clicked)\n",
    "# display(button, output)"
   ]
  },
  {
   "cell_type": "code",
   "execution_count": 42,
   "metadata": {},
   "outputs": [],
   "source": [
    "chooser_tab = widgets.VBox(\n",
    "    [\n",
    "        widgets.HBox(\n",
    "            [\n",
    "                exchange_menu, \n",
    "                asset_menu,\n",
    "                amount,\n",
    "                button,\n",
    "            ]\n",
    "        ),\n",
    "        asset_price,\n",
    "        widgets.HBox(\n",
    "            [\n",
    "                asset_plot,\n",
    "                portfolio_summary,\n",
    "            ]\n",
    "        )\n",
    "    ]\n",
    ")"
   ]
  },
  {
   "cell_type": "code",
   "execution_count": 43,
   "metadata": {},
   "outputs": [],
   "source": [
    "tab_list = ['Chooser', 'Portfolio']\n",
    "children = [chooser_tab, portfolio_summary]\n",
    "tab = widgets.Tab(children=children)\n",
    "for i, title in enumerate(tab_list):\n",
    "    tab.set_title(i, title)"
   ]
  },
  {
   "cell_type": "code",
   "execution_count": 44,
   "metadata": {},
   "outputs": [
    {
     "data": {
      "application/vnd.jupyter.widget-view+json": {
       "model_id": "473fe8d08e804f96a4da0b00c473ceee",
       "version_major": 2,
       "version_minor": 0
      },
      "text/plain": [
       "Tab(children=(VBox(children=(HBox(children=(Dropdown(options=('NYSE', 'NASDAQ', 'ARCA', 'AMEX', 'BATS', 'OTC')…"
      ]
     },
     "metadata": {},
     "output_type": "display_data"
    }
   ],
   "source": [
    "display(tab)"
   ]
  },
  {
   "cell_type": "code",
   "execution_count": 45,
   "metadata": {},
   "outputs": [],
   "source": [
    "# display(widgets.HBox([exchange_menu, asset_menu, asset_price, button, amount]), asset_plot)"
   ]
  }
 ],
 "metadata": {
  "interpreter": {
   "hash": "4b5b012ea58ebdc9c430366275deb7f3fca1f6158dc27f8c74d29a595a3b80ad"
  },
  "kernelspec": {
   "display_name": "Python 3.7.12 ('dev')",
   "language": "python",
   "name": "python3"
  },
  "language_info": {
   "codemirror_mode": {
    "name": "ipython",
    "version": 3
   },
   "file_extension": ".py",
   "mimetype": "text/x-python",
   "name": "python",
   "nbconvert_exporter": "python",
   "pygments_lexer": "ipython3",
   "version": "3.7.13"
  },
  "orig_nbformat": 4
 },
 "nbformat": 4,
 "nbformat_minor": 2
}
